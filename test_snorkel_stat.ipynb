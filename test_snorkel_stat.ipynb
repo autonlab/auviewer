{
 "cells": [
  {
   "cell_type": "code",
   "execution_count": 32,
   "metadata": {},
   "outputs": [],
   "source": [
    "import pandas as pd \n",
    "from auviewer import lfs\n",
    "import matplotlib.pyplot as plt\n",
    "\n",
    "\n",
    "\n",
    "\n",
    "from snorkel.labeling.model import LabelModel\n",
    "from snorkel.labeling import PandasLFApplier"
   ]
  },
  {
   "cell_type": "code",
   "execution_count": 33,
   "metadata": {},
   "outputs": [],
   "source": [
    "df_train = pd.read_csv(\"/Users/qingyang/desktop/AutonLab/resuscitation-project/for_sophia/statistics.csv\")"
   ]
  },
  {
   "cell_type": "code",
   "execution_count": 34,
   "metadata": {},
   "outputs": [],
   "source": [
    "# Reference: Snorkel Labeling Model https://www.snorkel.org/use-cases/01-spam-tutorial\n",
    "\n",
    "# Define the label mappings for convenience\n",
    "ABSTAIN = -1\n",
    "INSUFFICIENT = 0\n",
    "SUFFICIENT = 1"
   ]
  },
  {
   "cell_type": "code",
   "execution_count": 35,
   "metadata": {},
   "outputs": [],
   "source": [
    "# ART_mean_lower = getattr(lfs, \"ART_mean_lower\", None)\n",
    "# SvO2_mean_lower = getattr(lfs, \"SvO2_mean_lower\", None)"
   ]
  },
  {
   "cell_type": "code",
   "execution_count": 38,
   "metadata": {},
   "outputs": [],
   "source": [
    "from snorkel.labeling import labeling_function"
   ]
  },
  {
   "cell_type": "code",
   "execution_count": 49,
   "metadata": {},
   "outputs": [],
   "source": [
    "@labeling_function()\n",
    "def ART_mean_lower(pig):\n",
    "    if pig['ART_mean [5 min]'] >= 60:\n",
    "        return SUFFICIENT\n",
    "    else:\n",
    "        return ABSTAIN\n",
    "\n",
    "@labeling_function()\n",
    "def ART_mean_higher(pig):\n",
    "    if pig['ART_mean [5 min]'] <= 70:\n",
    "        return ABSTAIN\n",
    "    else:\n",
    "        return SUFFICIENT\n",
    "\n",
    "@labeling_function()\n",
    "def SvO2_mean_higher(pig):\n",
    "    if pig['SvO2_mean [2 min]'] <= 65:\n",
    "        return SUFFICIENT\n",
    "    else:\n",
    "        return ABSTAIN\n",
    "\n",
    "@labeling_function()\n",
    "def SvO2_mean_lower(pig):\n",
    "    if pig['SvO2_mean [2 min]'] >= 60:\n",
    "        return SUFFICIENT\n",
    "    else:\n",
    "        return ABSTAIN"
   ]
  },
  {
   "cell_type": "code",
   "execution_count": 50,
   "metadata": {},
   "outputs": [],
   "source": [
    "lfs_list = [ART_mean_lower, ART_mean_higher, SvO2_mean_higher, SvO2_mean_lower]"
   ]
  },
  {
   "cell_type": "code",
   "execution_count": 51,
   "metadata": {},
   "outputs": [
    {
     "data": {
      "text/html": [
       "<div>\n",
       "<style scoped>\n",
       "    .dataframe tbody tr th:only-of-type {\n",
       "        vertical-align: middle;\n",
       "    }\n",
       "\n",
       "    .dataframe tbody tr th {\n",
       "        vertical-align: top;\n",
       "    }\n",
       "\n",
       "    .dataframe thead th {\n",
       "        text-align: right;\n",
       "    }\n",
       "</style>\n",
       "<table border=\"1\" class=\"dataframe\">\n",
       "  <thead>\n",
       "    <tr style=\"text-align: right;\">\n",
       "      <th></th>\n",
       "      <th>Unnamed: 0</th>\n",
       "      <th>pigID</th>\n",
       "      <th>timestamp</th>\n",
       "      <th>ART_mean [2 min]</th>\n",
       "      <th>ART_mean [5 min]</th>\n",
       "      <th>SvO2_mean [2 min]</th>\n",
       "      <th>SvO2_mean [5 min]</th>\n",
       "    </tr>\n",
       "  </thead>\n",
       "  <tbody>\n",
       "    <tr>\n",
       "      <th>0</th>\n",
       "      <td>2433690</td>\n",
       "      <td>32</td>\n",
       "      <td>1.652986e+09</td>\n",
       "      <td>34.344871</td>\n",
       "      <td>34.785974</td>\n",
       "      <td>30.109299</td>\n",
       "      <td>30.307672</td>\n",
       "    </tr>\n",
       "    <tr>\n",
       "      <th>1</th>\n",
       "      <td>2448690</td>\n",
       "      <td>32</td>\n",
       "      <td>1.652987e+09</td>\n",
       "      <td>34.620191</td>\n",
       "      <td>34.656330</td>\n",
       "      <td>29.932412</td>\n",
       "      <td>30.186230</td>\n",
       "    </tr>\n",
       "    <tr>\n",
       "      <th>2</th>\n",
       "      <td>2463690</td>\n",
       "      <td>32</td>\n",
       "      <td>1.652987e+09</td>\n",
       "      <td>36.465104</td>\n",
       "      <td>35.205380</td>\n",
       "      <td>30.700268</td>\n",
       "      <td>30.382626</td>\n",
       "    </tr>\n",
       "    <tr>\n",
       "      <th>3</th>\n",
       "      <td>2478690</td>\n",
       "      <td>32</td>\n",
       "      <td>1.652987e+09</td>\n",
       "      <td>39.664165</td>\n",
       "      <td>36.610467</td>\n",
       "      <td>32.275945</td>\n",
       "      <td>30.920219</td>\n",
       "    </tr>\n",
       "    <tr>\n",
       "      <th>4</th>\n",
       "      <td>2493690</td>\n",
       "      <td>32</td>\n",
       "      <td>1.652987e+09</td>\n",
       "      <td>43.070364</td>\n",
       "      <td>38.655412</td>\n",
       "      <td>33.600209</td>\n",
       "      <td>31.727034</td>\n",
       "    </tr>\n",
       "  </tbody>\n",
       "</table>\n",
       "</div>"
      ],
      "text/plain": [
       "   Unnamed: 0  pigID     timestamp  ART_mean [2 min]  ART_mean [5 min]  \\\n",
       "0     2433690     32  1.652986e+09         34.344871         34.785974   \n",
       "1     2448690     32  1.652987e+09         34.620191         34.656330   \n",
       "2     2463690     32  1.652987e+09         36.465104         35.205380   \n",
       "3     2478690     32  1.652987e+09         39.664165         36.610467   \n",
       "4     2493690     32  1.652987e+09         43.070364         38.655412   \n",
       "\n",
       "   SvO2_mean [2 min]  SvO2_mean [5 min]  \n",
       "0          30.109299          30.307672  \n",
       "1          29.932412          30.186230  \n",
       "2          30.700268          30.382626  \n",
       "3          32.275945          30.920219  \n",
       "4          33.600209          31.727034  "
      ]
     },
     "execution_count": 51,
     "metadata": {},
     "output_type": "execute_result"
    }
   ],
   "source": [
    "df_train.head()"
   ]
  },
  {
   "cell_type": "code",
   "execution_count": 52,
   "metadata": {},
   "outputs": [
    {
     "name": "stderr",
     "output_type": "stream",
     "text": [
      "100%|██████████| 214/214 [00:00<00:00, 85183.74it/s]\n"
     ]
    }
   ],
   "source": [
    "# Apply the LFs to the unlabeled training data\n",
    "applier = PandasLFApplier(lfs_list)\n",
    "L_train = applier.apply(df_train)\n",
    "# L_train: label matrix, L[i, j] is the label that the jth labeling function output for the ith data point\n",
    "\n"
   ]
  },
  {
   "cell_type": "code",
   "execution_count": 53,
   "metadata": {},
   "outputs": [
    {
     "name": "stderr",
     "output_type": "stream",
     "text": [
      "100%|██████████| 500/500 [00:00<00:00, 3202.97epoch/s]\n"
     ]
    }
   ],
   "source": [
    "label_model = LabelModel(cardinality=2, verbose=True)\n",
    "label_model.fit(L_train, n_epochs=500, log_freq=50, seed=123)\n",
    "df_train[\"snorkel_label\"] = label_model.predict(L=L_train, tie_break_policy=\"abstain\")"
   ]
  },
  {
   "cell_type": "code",
   "execution_count": 55,
   "metadata": {},
   "outputs": [
    {
     "data": {
      "text/html": [
       "<div>\n",
       "<style scoped>\n",
       "    .dataframe tbody tr th:only-of-type {\n",
       "        vertical-align: middle;\n",
       "    }\n",
       "\n",
       "    .dataframe tbody tr th {\n",
       "        vertical-align: top;\n",
       "    }\n",
       "\n",
       "    .dataframe thead th {\n",
       "        text-align: right;\n",
       "    }\n",
       "</style>\n",
       "<table border=\"1\" class=\"dataframe\">\n",
       "  <thead>\n",
       "    <tr style=\"text-align: right;\">\n",
       "      <th></th>\n",
       "      <th>Unnamed: 0</th>\n",
       "      <th>pigID</th>\n",
       "      <th>timestamp</th>\n",
       "      <th>ART_mean [2 min]</th>\n",
       "      <th>ART_mean [5 min]</th>\n",
       "      <th>SvO2_mean [2 min]</th>\n",
       "      <th>SvO2_mean [5 min]</th>\n",
       "      <th>snorkel_label</th>\n",
       "    </tr>\n",
       "  </thead>\n",
       "  <tbody>\n",
       "    <tr>\n",
       "      <th>0</th>\n",
       "      <td>2433690</td>\n",
       "      <td>32</td>\n",
       "      <td>1.652986e+09</td>\n",
       "      <td>34.344871</td>\n",
       "      <td>34.785974</td>\n",
       "      <td>30.109299</td>\n",
       "      <td>30.307672</td>\n",
       "      <td>0</td>\n",
       "    </tr>\n",
       "    <tr>\n",
       "      <th>1</th>\n",
       "      <td>2448690</td>\n",
       "      <td>32</td>\n",
       "      <td>1.652987e+09</td>\n",
       "      <td>34.620191</td>\n",
       "      <td>34.656330</td>\n",
       "      <td>29.932412</td>\n",
       "      <td>30.186230</td>\n",
       "      <td>0</td>\n",
       "    </tr>\n",
       "    <tr>\n",
       "      <th>2</th>\n",
       "      <td>2463690</td>\n",
       "      <td>32</td>\n",
       "      <td>1.652987e+09</td>\n",
       "      <td>36.465104</td>\n",
       "      <td>35.205380</td>\n",
       "      <td>30.700268</td>\n",
       "      <td>30.382626</td>\n",
       "      <td>0</td>\n",
       "    </tr>\n",
       "    <tr>\n",
       "      <th>3</th>\n",
       "      <td>2478690</td>\n",
       "      <td>32</td>\n",
       "      <td>1.652987e+09</td>\n",
       "      <td>39.664165</td>\n",
       "      <td>36.610467</td>\n",
       "      <td>32.275945</td>\n",
       "      <td>30.920219</td>\n",
       "      <td>0</td>\n",
       "    </tr>\n",
       "    <tr>\n",
       "      <th>4</th>\n",
       "      <td>2493690</td>\n",
       "      <td>32</td>\n",
       "      <td>1.652987e+09</td>\n",
       "      <td>43.070364</td>\n",
       "      <td>38.655412</td>\n",
       "      <td>33.600209</td>\n",
       "      <td>31.727034</td>\n",
       "      <td>0</td>\n",
       "    </tr>\n",
       "    <tr>\n",
       "      <th>...</th>\n",
       "      <td>...</td>\n",
       "      <td>...</td>\n",
       "      <td>...</td>\n",
       "      <td>...</td>\n",
       "      <td>...</td>\n",
       "      <td>...</td>\n",
       "      <td>...</td>\n",
       "      <td>...</td>\n",
       "    </tr>\n",
       "    <tr>\n",
       "      <th>95</th>\n",
       "      <td>3858690</td>\n",
       "      <td>32</td>\n",
       "      <td>1.652992e+09</td>\n",
       "      <td>79.393113</td>\n",
       "      <td>76.973795</td>\n",
       "      <td>68.156056</td>\n",
       "      <td>66.521321</td>\n",
       "      <td>1</td>\n",
       "    </tr>\n",
       "    <tr>\n",
       "      <th>96</th>\n",
       "      <td>3873690</td>\n",
       "      <td>32</td>\n",
       "      <td>1.652992e+09</td>\n",
       "      <td>78.537378</td>\n",
       "      <td>78.007428</td>\n",
       "      <td>68.726885</td>\n",
       "      <td>67.488782</td>\n",
       "      <td>1</td>\n",
       "    </tr>\n",
       "    <tr>\n",
       "      <th>97</th>\n",
       "      <td>3888690</td>\n",
       "      <td>32</td>\n",
       "      <td>1.652992e+09</td>\n",
       "      <td>76.047668</td>\n",
       "      <td>77.695247</td>\n",
       "      <td>68.531676</td>\n",
       "      <td>68.113798</td>\n",
       "      <td>1</td>\n",
       "    </tr>\n",
       "    <tr>\n",
       "      <th>98</th>\n",
       "      <td>3903690</td>\n",
       "      <td>32</td>\n",
       "      <td>1.652992e+09</td>\n",
       "      <td>73.086434</td>\n",
       "      <td>76.429883</td>\n",
       "      <td>67.871304</td>\n",
       "      <td>68.135891</td>\n",
       "      <td>1</td>\n",
       "    </tr>\n",
       "    <tr>\n",
       "      <th>99</th>\n",
       "      <td>3918690</td>\n",
       "      <td>32</td>\n",
       "      <td>1.652992e+09</td>\n",
       "      <td>73.378332</td>\n",
       "      <td>75.747287</td>\n",
       "      <td>67.338381</td>\n",
       "      <td>68.113829</td>\n",
       "      <td>1</td>\n",
       "    </tr>\n",
       "  </tbody>\n",
       "</table>\n",
       "<p>100 rows × 8 columns</p>\n",
       "</div>"
      ],
      "text/plain": [
       "    Unnamed: 0  pigID     timestamp  ART_mean [2 min]  ART_mean [5 min]  \\\n",
       "0      2433690     32  1.652986e+09         34.344871         34.785974   \n",
       "1      2448690     32  1.652987e+09         34.620191         34.656330   \n",
       "2      2463690     32  1.652987e+09         36.465104         35.205380   \n",
       "3      2478690     32  1.652987e+09         39.664165         36.610467   \n",
       "4      2493690     32  1.652987e+09         43.070364         38.655412   \n",
       "..         ...    ...           ...               ...               ...   \n",
       "95     3858690     32  1.652992e+09         79.393113         76.973795   \n",
       "96     3873690     32  1.652992e+09         78.537378         78.007428   \n",
       "97     3888690     32  1.652992e+09         76.047668         77.695247   \n",
       "98     3903690     32  1.652992e+09         73.086434         76.429883   \n",
       "99     3918690     32  1.652992e+09         73.378332         75.747287   \n",
       "\n",
       "    SvO2_mean [2 min]  SvO2_mean [5 min]  snorkel_label  \n",
       "0           30.109299          30.307672              0  \n",
       "1           29.932412          30.186230              0  \n",
       "2           30.700268          30.382626              0  \n",
       "3           32.275945          30.920219              0  \n",
       "4           33.600209          31.727034              0  \n",
       "..                ...                ...            ...  \n",
       "95          68.156056          66.521321              1  \n",
       "96          68.726885          67.488782              1  \n",
       "97          68.531676          68.113798              1  \n",
       "98          67.871304          68.135891              1  \n",
       "99          67.338381          68.113829              1  \n",
       "\n",
       "[100 rows x 8 columns]"
      ]
     },
     "execution_count": 55,
     "metadata": {},
     "output_type": "execute_result"
    }
   ],
   "source": [
    "df_train.head(100)"
   ]
  },
  {
   "cell_type": "code",
   "execution_count": 77,
   "metadata": {},
   "outputs": [],
   "source": [
    "if \"normalized_t [min]\" not in df_train:\n",
    "    df_train.insert(loc = 1, column = \"normalized_t [min]\", value = df_train[\"timestamp\"] - df_train[\"timestamp\"][0])"
   ]
  },
  {
   "cell_type": "code",
   "execution_count": 78,
   "metadata": {},
   "outputs": [],
   "source": [
    "df_train[\"normalized_t [min]\"] = df_train[\"normalized_t [min]\"] / 60"
   ]
  },
  {
   "cell_type": "code",
   "execution_count": 85,
   "metadata": {},
   "outputs": [
    {
     "data": {
      "image/png": "[encoded data removed]",
      "text/plain": [
       "<Figure size 1300x350 with 1 Axes>"
      ]
     },
     "metadata": {},
     "output_type": "display_data"
    }
   ],
   "source": [
    "plt.figure(figsize=(13, 3.5))\n",
    "plt.plot(df_train[\"normalized_t [min]\"], df_train[\"ART_mean [5 min]\"], color=\"C0\", alpha=0.5, label=\"ART_mean [5 min]\") # raw time series, 250Hz\n",
    "plt.plot(df_train[\"normalized_t [min]\"], df_train[\"SvO2_mean [2 min]\"], color=\"orange\", alpha=0.5, label=\"SvO2_mean [2 min]\")\n",
    "\n",
    "# plt.scatter(df_train[\"timestamp\"][(df_train.snorkel_label == 1)], df_train[\"snorkel_label\"][(df_train.snorkel_label == 1)], color=\"red\", s=5)\n",
    "plt.vlines(df_train[\"normalized_t [min]\"][(df_train.snorkel_label == 1)], 0, 95, color=\"purple\", alpha=0.3, label='Snorkel SUFFICIENT')\n",
    "plt.legend()\n",
    "plt.xlabel(\"Time after resuscitation started [min]\")\n",
    "# plt.ylabel(\"SvO2_mean [2 min]  ART_mean [5 min]\")\n",
    "plt.show()"
   ]
  }
 ],
 "metadata": {
  "kernelspec": {
   "display_name": "auv",
   "language": "python",
   "name": "python3"
  },
  "language_info": {
   "codemirror_mode": {
    "name": "ipython",
    "version": 3
   },
   "file_extension": ".py",
   "mimetype": "text/x-python",
   "name": "python",
   "nbconvert_exporter": "python",
   "pygments_lexer": "ipython3",
   "version": "3.9.16"
  }
 },
 "nbformat": 4,
 "nbformat_minor": 4
}
